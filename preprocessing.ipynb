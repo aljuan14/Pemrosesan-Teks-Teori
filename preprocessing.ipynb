{
  "nbformat": 4,
  "nbformat_minor": 0,
  "metadata": {
    "colab": {
      "provenance": [],
      "mount_file_id": "1GxnSZekoPXQMuy9J2GSYG2N53y1pLj-T",
      "authorship_tag": "ABX9TyMloJ2SqMmvkE7IhPXzo4jh",
      "include_colab_link": true
    },
    "kernelspec": {
      "name": "python3",
      "display_name": "Python 3"
    },
    "language_info": {
      "name": "python"
    }
  },
  "cells": [
    {
      "cell_type": "markdown",
      "metadata": {
        "id": "view-in-github",
        "colab_type": "text"
      },
      "source": [
        "<a href=\"https://colab.research.google.com/github/aljuan14/Pemrosesan-Teks-Teori/blob/main/preprocessing.ipynb\" target=\"_parent\"><img src=\"https://colab.research.google.com/assets/colab-badge.svg\" alt=\"Open In Colab\"/></a>"
      ]
    },
    {
      "cell_type": "code",
      "execution_count": 2,
      "metadata": {
        "colab": {
          "base_uri": "https://localhost:8080/"
        },
        "id": "pjgrk71bK9EU",
        "outputId": "4e5fb81a-9044-42b9-a298-b0e893e9e74b"
      },
      "outputs": [
        {
          "output_type": "stream",
          "name": "stdout",
          "text": [
            "Requirement already satisfied: nltk in /usr/local/lib/python3.12/dist-packages (3.9.1)\n",
            "Collecting sastrawi\n",
            "  Downloading Sastrawi-1.0.1-py2.py3-none-any.whl.metadata (909 bytes)\n",
            "Requirement already satisfied: click in /usr/local/lib/python3.12/dist-packages (from nltk) (8.3.0)\n",
            "Requirement already satisfied: joblib in /usr/local/lib/python3.12/dist-packages (from nltk) (1.5.2)\n",
            "Requirement already satisfied: regex>=2021.8.3 in /usr/local/lib/python3.12/dist-packages (from nltk) (2024.11.6)\n",
            "Requirement already satisfied: tqdm in /usr/local/lib/python3.12/dist-packages (from nltk) (4.67.1)\n",
            "Downloading Sastrawi-1.0.1-py2.py3-none-any.whl (209 kB)\n",
            "\u001b[2K   \u001b[90m━━━━━━━━━━━━━━━━━━━━━━━━━━━━━━━━━━━━━━━━\u001b[0m \u001b[32m209.7/209.7 kB\u001b[0m \u001b[31m4.5 MB/s\u001b[0m eta \u001b[36m0:00:00\u001b[0m\n",
            "\u001b[?25hInstalling collected packages: sastrawi\n",
            "Successfully installed sastrawi-1.0.1\n"
          ]
        }
      ],
      "source": [
        "# Instal library yang diperlukan\n",
        "!pip install nltk sastrawi"
      ]
    },
    {
      "cell_type": "code",
      "source": [
        "# --- Setup dan Load Data ---\n",
        "import pandas as pd\n",
        "import re\n",
        "import nltk\n",
        "from nltk.tokenize import word_tokenize\n",
        "from nltk.corpus import stopwords\n",
        "from Sastrawi.Stemmer.StemmerFactory import StemmerFactory\n",
        "import string\n",
        "\n",
        "# Download resource NLTK (hanya perlu sekali)\n",
        "nltk.download('punkt')\n",
        "nltk.download('stopwords')\n",
        "\n",
        "# Load dataset Anda\n",
        "file_path = '//content/drive/MyDrive/Dataset analisis sentimen/analisis_sentimen_youtube_purbaya_vs_srimulyani (1).csv'\n",
        "df = pd.read_csv(file_path)\n",
        "\n",
        "# Pilih hanya kolom yang relevan\n",
        "df_clean = df[['subjek', 'comment']].copy()\n",
        "\n",
        "# Menghapus baris jika ada komentar yang kosong (meskipun data Anda 100% terisi)\n",
        "df_clean = df_clean.dropna(subset=['comment'])\n",
        "df_clean = df_clean.reset_index(drop=True)\n",
        "\n",
        "print(\"Data Awal (sebelum diproses):\")\n",
        "print(df_clean.head())"
      ],
      "metadata": {
        "colab": {
          "base_uri": "https://localhost:8080/"
        },
        "id": "hYVZxEp2P8nA",
        "outputId": "57c367ab-c96a-4ef3-f0e4-8cf31c4a2995"
      },
      "execution_count": 3,
      "outputs": [
        {
          "output_type": "stream",
          "name": "stderr",
          "text": [
            "[nltk_data] Downloading package punkt to /root/nltk_data...\n",
            "[nltk_data]   Unzipping tokenizers/punkt.zip.\n",
            "[nltk_data] Downloading package stopwords to /root/nltk_data...\n",
            "[nltk_data]   Unzipping corpora/stopwords.zip.\n"
          ]
        },
        {
          "output_type": "stream",
          "name": "stdout",
          "text": [
            "Data Awal (sebelum diproses):\n",
            "                 subjek                                            comment\n",
            "0  Purbaya Yudhi Sadewa  Ga perlu seperti punyanya sahroni,ya pak. Semu...\n",
            "1  Purbaya Yudhi Sadewa  Apa arti FAMILY OFFICE dan manfaatnya lngsung ...\n",
            "2  Purbaya Yudhi Sadewa  MENTERI PURBAYA YUDHI SADEWA SATU TYPE DGN  MA...\n",
            "3  Purbaya Yudhi Sadewa  Pak purbaya tidak memikirkan kekayaan dirinya ...\n",
            "4  Purbaya Yudhi Sadewa  Pak Purbaya bukan orang yg suka hal2 mubazier....\n"
          ]
        }
      ]
    },
    {
      "cell_type": "code",
      "source": [
        "# --- 1. Noise Removal (FUNGSI PERBAIKAN) ---\n",
        "\n",
        "def remove_noise(text):\n",
        "    # 1. Case Folding: Ubah semua teks menjadi lowercase\n",
        "    text = text.lower()\n",
        "\n",
        "    # 2. Hapus URL (http/https)\n",
        "    text = re.sub(r'https?:\\/\\/\\S+', '', text)\n",
        "\n",
        "    # 3. Hapus @username (mentions)\n",
        "    text = re.sub(r'@\\w+', '', text)\n",
        "\n",
        "    # 4. Hapus #hashtag\n",
        "    text = re.sub(r'#\\w+', '', text)\n",
        "\n",
        "    # 5. Hapus angka\n",
        "    text = re.sub(r'\\d+', '', text)\n",
        "\n",
        "    # 6. --- PERBAIKAN UTAMA ---\n",
        "    #    Ganti tanda baca dengan SPASI, bukan menghapusnya\n",
        "    #    Ini akan memisahkan \"kosong,bisa\" -> \"kosong bisa\"\n",
        "    text = text.translate(str.maketrans(string.punctuation, ' '*len(string.punctuation)))\n",
        "\n",
        "    # 7. --- TAMBAHAN ---\n",
        "    #    Menormalkan karakter berulang (e.g., lhoooo -> lho)\n",
        "    #    (Mengubah 3+ karakter berulang menjadi 1)\n",
        "    text = re.sub(r'(.)\\1{2,}', r'\\1', text)\n",
        "\n",
        "    # 8. Hapus emoji\n",
        "    text = re.sub(r'[^\\x00-\\x7F]+', '', text)\n",
        "\n",
        "    # 9. Hapus spasi berlebih (termasuk spasi dari penggantian tanda baca)\n",
        "    text = text.strip()\n",
        "    text = re.sub(r'\\s+', ' ', text)\n",
        "\n",
        "    return text\n",
        "\n",
        "# Terapkan ke kolom komentar\n",
        "df_clean['cleaned_text'] = df_clean['comment'].apply(remove_noise)\n",
        "\n",
        "print(\"\\nData Setelah Noise Removal (Perbaikan):\")\n",
        "print(df_clean.head())"
      ],
      "metadata": {
        "colab": {
          "base_uri": "https://localhost:8080/"
        },
        "id": "d79677k_rrVZ",
        "outputId": "34de7945-24a9-4edb-e509-9bdb7a4b87e7"
      },
      "execution_count": 4,
      "outputs": [
        {
          "output_type": "stream",
          "name": "stdout",
          "text": [
            "\n",
            "Data Setelah Noise Removal (Perbaikan):\n",
            "                 subjek                                            comment  \\\n",
            "0  Purbaya Yudhi Sadewa  Ga perlu seperti punyanya sahroni,ya pak. Semu...   \n",
            "1  Purbaya Yudhi Sadewa  Apa arti FAMILY OFFICE dan manfaatnya lngsung ...   \n",
            "2  Purbaya Yudhi Sadewa  MENTERI PURBAYA YUDHI SADEWA SATU TYPE DGN  MA...   \n",
            "3  Purbaya Yudhi Sadewa  Pak purbaya tidak memikirkan kekayaan dirinya ...   \n",
            "4  Purbaya Yudhi Sadewa  Pak Purbaya bukan orang yg suka hal2 mubazier....   \n",
            "\n",
            "                                        cleaned_text  \n",
            "0  ga perlu seperti punyanya sahroni ya pak semua...  \n",
            "1  apa arti family office dan manfaatnya lngsung ...  \n",
            "2  menteri purbaya yudhi sadewa satu type dgn ma ...  \n",
            "3  pak purbaya tidak memikirkan kekayaan dirinya ...  \n",
            "4  pak purbaya bukan orang yg suka hal mubazier g...  \n"
          ]
        }
      ]
    },
    {
      "cell_type": "code",
      "source": [
        "# --- 2. Normalization (Perbaikan Kamus) ---\n",
        "\n",
        "# Menambahkan kata-kata baru\n",
        "kamus_alay = {\n",
        "    'yg': 'yang',\n",
        "    'dgn': 'dengan',\n",
        "    'utk': 'untuk',\n",
        "    'gk': 'tidak',\n",
        "    'gak': 'tidak',\n",
        "    'ga': 'tidak',\n",
        "    'utang': 'hutang',\n",
        "    'byr': 'bayar',\n",
        "    'pjk': 'pajak',\n",
        "    'klo': 'kalau',\n",
        "    'kalo': 'kalau',\n",
        "    'smg': 'semoga',\n",
        "    'moga': 'semoga',\n",
        "    'jgn': 'jangan',\n",
        "    'bgt': 'banget',\n",
        "    'org': 'orang',\n",
        "    'sbg': 'sebagai',\n",
        "    'sdh': 'sudah',\n",
        "    'blm': 'belum',\n",
        "    'ttp': 'tetap',\n",
        "    'tp': 'tapi',\n",
        "    'krn': 'karena',\n",
        "    'aja': 'saja',\n",
        "    'menkeu': 'menteri keuangan',\n",
        "\n",
        "    # --- TAMBAHAN BARU (dari temuan data) ---\n",
        "    'sya': 'saya',\n",
        "    'doank': 'saja',\n",
        "    'twrlalu': 'terlalu',\n",
        "    'lho': 'lho',\n",
        "    'wkwk': '', # Anggap tawa tidak ada sentimen\n",
        "    'wkwkwk': '',\n",
        "    'kyk': 'seperti',\n",
        "    'aamiin': 'amin', # Normalisasi\n",
        "    'lngsung': 'langsung'\n",
        "}\n",
        "\n",
        "def normalize_text(text):\n",
        "    words = text.split()\n",
        "    normalized_words = [kamus_alay[word] if word in kamus_alay else word for word in words]\n",
        "    return ' '.join(normalized_words)\n",
        "\n",
        "# Terapkan ke kolom yang sudah dibersihkan\n",
        "df_clean['normalized_text'] = df_clean['cleaned_text'].apply(normalize_text)\n",
        "\n",
        "print(\"\\nData Setelah Normalization (Perbaikan):\")\n",
        "print(df_clean.head())"
      ],
      "metadata": {
        "colab": {
          "base_uri": "https://localhost:8080/"
        },
        "id": "Vw5UnNEyrvI8",
        "outputId": "b57dac4f-1e3e-413b-ce03-ebe8d22b84f9"
      },
      "execution_count": 5,
      "outputs": [
        {
          "output_type": "stream",
          "name": "stdout",
          "text": [
            "\n",
            "Data Setelah Normalization (Perbaikan):\n",
            "                 subjek                                            comment  \\\n",
            "0  Purbaya Yudhi Sadewa  Ga perlu seperti punyanya sahroni,ya pak. Semu...   \n",
            "1  Purbaya Yudhi Sadewa  Apa arti FAMILY OFFICE dan manfaatnya lngsung ...   \n",
            "2  Purbaya Yudhi Sadewa  MENTERI PURBAYA YUDHI SADEWA SATU TYPE DGN  MA...   \n",
            "3  Purbaya Yudhi Sadewa  Pak purbaya tidak memikirkan kekayaan dirinya ...   \n",
            "4  Purbaya Yudhi Sadewa  Pak Purbaya bukan orang yg suka hal2 mubazier....   \n",
            "\n",
            "                                        cleaned_text  \\\n",
            "0  ga perlu seperti punyanya sahroni ya pak semua...   \n",
            "1  apa arti family office dan manfaatnya lngsung ...   \n",
            "2  menteri purbaya yudhi sadewa satu type dgn ma ...   \n",
            "3  pak purbaya tidak memikirkan kekayaan dirinya ...   \n",
            "4  pak purbaya bukan orang yg suka hal mubazier g...   \n",
            "\n",
            "                                     normalized_text  \n",
            "0  tidak perlu seperti punyanya sahroni ya pak se...  \n",
            "1  apa arti family office dan manfaatnya langsung...  \n",
            "2  menteri purbaya yudhi sadewa satu type dengan ...  \n",
            "3  pak purbaya tidak memikirkan kekayaan dirinya ...  \n",
            "4  pak purbaya bukan orang yang suka hal mubazier...  \n"
          ]
        }
      ]
    },
    {
      "cell_type": "code",
      "source": [
        "# --- JALANKAN SEL INI UNTUK MEMPERBAIKI ERROR ---\n",
        "import nltk\n",
        "print(\"Mengunduh resource 'punkt_tab' yang diperlukan...\")\n",
        "nltk.download('punkt_tab')\n",
        "print(\"Download 'punkt_tab' selesai.\")"
      ],
      "metadata": {
        "colab": {
          "base_uri": "https://localhost:8080/"
        },
        "id": "K9eMmEvK9UBn",
        "outputId": "fd5c35eb-4cac-44f2-d57d-ea701316d9f9"
      },
      "execution_count": 6,
      "outputs": [
        {
          "output_type": "stream",
          "name": "stdout",
          "text": [
            "Mengunduh resource 'punkt_tab' yang diperlukan...\n"
          ]
        },
        {
          "output_type": "stream",
          "name": "stderr",
          "text": [
            "[nltk_data] Downloading package punkt_tab to /root/nltk_data...\n",
            "[nltk_data]   Unzipping tokenizers/punkt_tab.zip.\n"
          ]
        },
        {
          "output_type": "stream",
          "name": "stdout",
          "text": [
            "Download 'punkt_tab' selesai.\n"
          ]
        }
      ]
    },
    {
      "cell_type": "code",
      "source": [
        "# --- 3. Tokenization ---\n",
        "\n",
        "def tokenize_text(text):\n",
        "    return word_tokenize(text)\n",
        "\n",
        "df_clean['tokenized_text'] = df_clean['normalized_text'].apply(tokenize_text)\n",
        "\n",
        "print(\"\\nData Setelah Tokenization:\")\n",
        "print(df_clean.head())"
      ],
      "metadata": {
        "colab": {
          "base_uri": "https://localhost:8080/"
        },
        "id": "pCfYrhEwrxkt",
        "outputId": "809263b3-339a-4ac3-a2b5-09481695f1ed"
      },
      "execution_count": 7,
      "outputs": [
        {
          "output_type": "stream",
          "name": "stdout",
          "text": [
            "\n",
            "Data Setelah Tokenization:\n",
            "                 subjek                                            comment  \\\n",
            "0  Purbaya Yudhi Sadewa  Ga perlu seperti punyanya sahroni,ya pak. Semu...   \n",
            "1  Purbaya Yudhi Sadewa  Apa arti FAMILY OFFICE dan manfaatnya lngsung ...   \n",
            "2  Purbaya Yudhi Sadewa  MENTERI PURBAYA YUDHI SADEWA SATU TYPE DGN  MA...   \n",
            "3  Purbaya Yudhi Sadewa  Pak purbaya tidak memikirkan kekayaan dirinya ...   \n",
            "4  Purbaya Yudhi Sadewa  Pak Purbaya bukan orang yg suka hal2 mubazier....   \n",
            "\n",
            "                                        cleaned_text  \\\n",
            "0  ga perlu seperti punyanya sahroni ya pak semua...   \n",
            "1  apa arti family office dan manfaatnya lngsung ...   \n",
            "2  menteri purbaya yudhi sadewa satu type dgn ma ...   \n",
            "3  pak purbaya tidak memikirkan kekayaan dirinya ...   \n",
            "4  pak purbaya bukan orang yg suka hal mubazier g...   \n",
            "\n",
            "                                     normalized_text  \\\n",
            "0  tidak perlu seperti punyanya sahroni ya pak se...   \n",
            "1  apa arti family office dan manfaatnya langsung...   \n",
            "2  menteri purbaya yudhi sadewa satu type dengan ...   \n",
            "3  pak purbaya tidak memikirkan kekayaan dirinya ...   \n",
            "4  pak purbaya bukan orang yang suka hal mubazier...   \n",
            "\n",
            "                                      tokenized_text  \n",
            "0  [tidak, perlu, seperti, punyanya, sahroni, ya,...  \n",
            "1  [apa, arti, family, office, dan, manfaatnya, l...  \n",
            "2  [menteri, purbaya, yudhi, sadewa, satu, type, ...  \n",
            "3  [pak, purbaya, tidak, memikirkan, kekayaan, di...  \n",
            "4  [pak, purbaya, bukan, orang, yang, suka, hal, ...  \n"
          ]
        }
      ]
    },
    {
      "cell_type": "code",
      "source": [
        "# --- 4. Stopword Removal ---\n",
        "\n",
        "list_stopwords = stopwords.words('indonesian')\n",
        "\n",
        "custom_stopwords = [\n",
        "    'purbaya', 'yudhi', 'sadewa', 'sri', 'mulyani', 'indrawati',\n",
        "    'pak', 'bapak', 'bu', 'ibu', 'bpk', 'menteri', 'menkeu', 'keuangan',\n",
        "    'kemenkeu', 'presiden', 'jokowi', 'prabowo', 'gibran',\n",
        "    'amin' # Tambahkan 'amin' karena sudah dinormalisasi\n",
        "]\n",
        "\n",
        "list_stopwords.extend(custom_stopwords)\n",
        "list_stopwords = set(list_stopwords)\n",
        "\n",
        "def remove_stopwords(tokens):\n",
        "    return [word for word in tokens if word not in list_stopwords]\n",
        "\n",
        "df_clean['no_stopwords_text'] = df_clean['tokenized_text'].apply(remove_stopwords)\n",
        "\n",
        "print(\"\\nData Setelah Stopword Removal:\")\n",
        "print(df_clean.head())"
      ],
      "metadata": {
        "colab": {
          "base_uri": "https://localhost:8080/"
        },
        "id": "WzdNZ3izrzsF",
        "outputId": "21d195d0-7962-4f7f-c9aa-043c9289e259"
      },
      "execution_count": 8,
      "outputs": [
        {
          "output_type": "stream",
          "name": "stdout",
          "text": [
            "\n",
            "Data Setelah Stopword Removal:\n",
            "                 subjek                                            comment  \\\n",
            "0  Purbaya Yudhi Sadewa  Ga perlu seperti punyanya sahroni,ya pak. Semu...   \n",
            "1  Purbaya Yudhi Sadewa  Apa arti FAMILY OFFICE dan manfaatnya lngsung ...   \n",
            "2  Purbaya Yudhi Sadewa  MENTERI PURBAYA YUDHI SADEWA SATU TYPE DGN  MA...   \n",
            "3  Purbaya Yudhi Sadewa  Pak purbaya tidak memikirkan kekayaan dirinya ...   \n",
            "4  Purbaya Yudhi Sadewa  Pak Purbaya bukan orang yg suka hal2 mubazier....   \n",
            "\n",
            "                                        cleaned_text  \\\n",
            "0  ga perlu seperti punyanya sahroni ya pak semua...   \n",
            "1  apa arti family office dan manfaatnya lngsung ...   \n",
            "2  menteri purbaya yudhi sadewa satu type dgn ma ...   \n",
            "3  pak purbaya tidak memikirkan kekayaan dirinya ...   \n",
            "4  pak purbaya bukan orang yg suka hal mubazier g...   \n",
            "\n",
            "                                     normalized_text  \\\n",
            "0  tidak perlu seperti punyanya sahroni ya pak se...   \n",
            "1  apa arti family office dan manfaatnya langsung...   \n",
            "2  menteri purbaya yudhi sadewa satu type dengan ...   \n",
            "3  pak purbaya tidak memikirkan kekayaan dirinya ...   \n",
            "4  pak purbaya bukan orang yang suka hal mubazier...   \n",
            "\n",
            "                                      tokenized_text  \\\n",
            "0  [tidak, perlu, seperti, punyanya, sahroni, ya,...   \n",
            "1  [apa, arti, family, office, dan, manfaatnya, l...   \n",
            "2  [menteri, purbaya, yudhi, sadewa, satu, type, ...   \n",
            "3  [pak, purbaya, tidak, memikirkan, kekayaan, di...   \n",
            "4  [pak, purbaya, bukan, orang, yang, suka, hal, ...   \n",
            "\n",
            "                                   no_stopwords_text  \n",
            "0  [punyanya, sahroni, ya, brandid, trilyunan, ot...  \n",
            "1  [arti, family, office, manfaatnya, langsung, r...  \n",
            "2  [type, ma, rie, muhammad, cerdas, sederhana, m...  \n",
            "3  [memikirkan, kekayaan, dipikirkan, rakyat, yng...  \n",
            "4  [orang, suka, mubazier, pk, milyaran, kl, cm, ...  \n"
          ]
        }
      ]
    },
    {
      "cell_type": "code",
      "source": [
        "# --- 5. Stemming (Sama, tetap akan LAMA) ---\n",
        "# OPSI: Anda bisa lewati sel ini jika tidak ingin menunggu\n",
        "\n",
        "factory = StemmerFactory()\n",
        "stemmer = factory.create_stemmer()\n",
        "\n",
        "def stem_tokens(tokens):\n",
        "    return [stemmer.stem(word) for word in tokens]\n",
        "\n",
        "print(\"\\nMemulai proses stemming (mungkin butuh beberapa menit)...\")\n",
        "df_clean['stemmed_tokens'] = df_clean['no_stopwords_text'].apply(stem_tokens)\n",
        "print(\"Proses stemming selesai.\")\n",
        "\n",
        "print(\"\\nData Setelah Stemming:\")\n",
        "print(df_clean.head())"
      ],
      "metadata": {
        "colab": {
          "base_uri": "https://localhost:8080/"
        },
        "id": "kn85CTdxr169",
        "outputId": "dd2d6edb-22ad-42bf-a111-97d044c63486"
      },
      "execution_count": 9,
      "outputs": [
        {
          "output_type": "stream",
          "name": "stdout",
          "text": [
            "\n",
            "Memulai proses stemming (mungkin butuh beberapa menit)...\n",
            "Proses stemming selesai.\n",
            "\n",
            "Data Setelah Stemming:\n",
            "                 subjek                                            comment  \\\n",
            "0  Purbaya Yudhi Sadewa  Ga perlu seperti punyanya sahroni,ya pak. Semu...   \n",
            "1  Purbaya Yudhi Sadewa  Apa arti FAMILY OFFICE dan manfaatnya lngsung ...   \n",
            "2  Purbaya Yudhi Sadewa  MENTERI PURBAYA YUDHI SADEWA SATU TYPE DGN  MA...   \n",
            "3  Purbaya Yudhi Sadewa  Pak purbaya tidak memikirkan kekayaan dirinya ...   \n",
            "4  Purbaya Yudhi Sadewa  Pak Purbaya bukan orang yg suka hal2 mubazier....   \n",
            "\n",
            "                                        cleaned_text  \\\n",
            "0  ga perlu seperti punyanya sahroni ya pak semua...   \n",
            "1  apa arti family office dan manfaatnya lngsung ...   \n",
            "2  menteri purbaya yudhi sadewa satu type dgn ma ...   \n",
            "3  pak purbaya tidak memikirkan kekayaan dirinya ...   \n",
            "4  pak purbaya bukan orang yg suka hal mubazier g...   \n",
            "\n",
            "                                     normalized_text  \\\n",
            "0  tidak perlu seperti punyanya sahroni ya pak se...   \n",
            "1  apa arti family office dan manfaatnya langsung...   \n",
            "2  menteri purbaya yudhi sadewa satu type dengan ...   \n",
            "3  pak purbaya tidak memikirkan kekayaan dirinya ...   \n",
            "4  pak purbaya bukan orang yang suka hal mubazier...   \n",
            "\n",
            "                                      tokenized_text  \\\n",
            "0  [tidak, perlu, seperti, punyanya, sahroni, ya,...   \n",
            "1  [apa, arti, family, office, dan, manfaatnya, l...   \n",
            "2  [menteri, purbaya, yudhi, sadewa, satu, type, ...   \n",
            "3  [pak, purbaya, tidak, memikirkan, kekayaan, di...   \n",
            "4  [pak, purbaya, bukan, orang, yang, suka, hal, ...   \n",
            "\n",
            "                                   no_stopwords_text  \\\n",
            "0  [punyanya, sahroni, ya, brandid, trilyunan, ot...   \n",
            "1  [arti, family, office, manfaatnya, langsung, r...   \n",
            "2  [type, ma, rie, muhammad, cerdas, sederhana, m...   \n",
            "3  [memikirkan, kekayaan, dipikirkan, rakyat, yng...   \n",
            "4  [orang, suka, mubazier, pk, milyaran, kl, cm, ...   \n",
            "\n",
            "                                      stemmed_tokens  \n",
            "0  [punya, sahroni, ya, brandid, trilyunan, otak,...  \n",
            "1  [arti, family, office, manfaat, langsung, rakyat]  \n",
            "2  [type, ma, rie, muhammad, cerdas, sederhana, m...  \n",
            "3  [pikir, kaya, pikir, rakyat, yng, mulya, jalan...  \n",
            "4  [orang, suka, mubazier, pk, milyaran, kl, cm, ...  \n"
          ]
        }
      ]
    },
    {
      "cell_type": "code",
      "source": [
        "# --- 6. Finalisasi (Gabung kembali token) ---\n",
        "\n",
        "def join_tokens(tokens):\n",
        "    return ' '.join(tokens)\n",
        "\n",
        "# --- SESUAIKAN BARIS INI ---\n",
        "# Jika Anda MENJALANKAN stemming:\n",
        "df_clean['final_text'] = df_clean['stemmed_tokens'].apply(join_tokens)\n",
        "#\n",
        "# Jika Anda MELEWATI stemming (agar cepat):\n",
        "# df_clean['final_text'] = df_clean['no_stopwords_text'].apply(join_tokens)\n",
        "\n",
        "# Tampilkan hasil akhir\n",
        "print(\"\\nDataFrame Final Hasil Preprocessing (Perbaikan):\")\n",
        "final_df = df_clean[['subjek', 'final_text']]\n",
        "print(final_df.head())\n",
        "\n",
        "# Simpan hasil ke CSV baru\n",
        "final_df.to_csv('analisis_sentimen_bersih.csv', index=False)\n",
        "print(\"\\nData bersih (v2) berhasil disimpan ke 'analisis_sentimen_cleaned_v2.csv'\")"
      ],
      "metadata": {
        "colab": {
          "base_uri": "https://localhost:8080/"
        },
        "id": "oj5EAss-r3y2",
        "outputId": "72c75b6a-4a20-4449-82a1-afa6d51de1cf"
      },
      "execution_count": 11,
      "outputs": [
        {
          "output_type": "stream",
          "name": "stdout",
          "text": [
            "\n",
            "DataFrame Final Hasil Preprocessing (Perbaikan):\n",
            "                 subjek                                         final_text\n",
            "0  Purbaya Yudhi Sadewa  punya sahroni ya brandid trilyunan otak cek ko...\n",
            "1  Purbaya Yudhi Sadewa         arti family office manfaat langsung rakyat\n",
            "2  Purbaya Yudhi Sadewa  type ma rie muhammad cerdas sederhana manfaat ...\n",
            "3  Purbaya Yudhi Sadewa  pikir kaya pikir rakyat yng mulya jalan amanah...\n",
            "4  Purbaya Yudhi Sadewa  orang suka mubazier pk milyaran kl cm planga p...\n",
            "\n",
            "Data bersih (v2) berhasil disimpan ke 'analisis_sentimen_cleaned_v2.csv'\n"
          ]
        }
      ]
    }
  ]
}